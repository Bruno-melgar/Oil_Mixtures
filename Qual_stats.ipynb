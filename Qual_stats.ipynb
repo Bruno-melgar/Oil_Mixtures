{
  "nbformat": 4,
  "nbformat_minor": 0,
  "metadata": {
    "colab": {
      "provenance": []
    },
    "kernelspec": {
      "name": "python3",
      "display_name": "Python 3"
    },
    "language_info": {
      "name": "python"
    }
  },
  "cells": [
    {
      "cell_type": "markdown",
      "source": [
        "# Importing basic libraries"
      ],
      "metadata": {
        "id": "fHwAxb73dV41"
      }
    },
    {
      "cell_type": "code",
      "execution_count": null,
      "metadata": {
        "id": "p0pEBogIdVNh",
        "colab": {
          "base_uri": "https://localhost:8080/"
        },
        "outputId": "9c17446c-4528-40a2-d058-76d8964c8b40"
      },
      "outputs": [
        {
          "output_type": "stream",
          "name": "stdout",
          "text": [
            "Requirement already satisfied: pingouin in /usr/local/lib/python3.10/dist-packages (0.5.4)\n",
            "Requirement already satisfied: numpy in /usr/local/lib/python3.10/dist-packages (from pingouin) (1.25.2)\n",
            "Requirement already satisfied: scipy in /usr/local/lib/python3.10/dist-packages (from pingouin) (1.11.4)\n",
            "Requirement already satisfied: pandas>=1.5 in /usr/local/lib/python3.10/dist-packages (from pingouin) (1.5.3)\n",
            "Requirement already satisfied: matplotlib in /usr/local/lib/python3.10/dist-packages (from pingouin) (3.7.1)\n",
            "Requirement already satisfied: seaborn in /usr/local/lib/python3.10/dist-packages (from pingouin) (0.13.1)\n",
            "Requirement already satisfied: statsmodels in /usr/local/lib/python3.10/dist-packages (from pingouin) (0.14.1)\n",
            "Requirement already satisfied: scikit-learn in /usr/local/lib/python3.10/dist-packages (from pingouin) (1.2.2)\n",
            "Requirement already satisfied: pandas-flavor in /usr/local/lib/python3.10/dist-packages (from pingouin) (0.6.0)\n",
            "Requirement already satisfied: tabulate in /usr/local/lib/python3.10/dist-packages (from pingouin) (0.9.0)\n",
            "Requirement already satisfied: python-dateutil>=2.8.1 in /usr/local/lib/python3.10/dist-packages (from pandas>=1.5->pingouin) (2.8.2)\n",
            "Requirement already satisfied: pytz>=2020.1 in /usr/local/lib/python3.10/dist-packages (from pandas>=1.5->pingouin) (2023.4)\n",
            "Requirement already satisfied: contourpy>=1.0.1 in /usr/local/lib/python3.10/dist-packages (from matplotlib->pingouin) (1.2.0)\n",
            "Requirement already satisfied: cycler>=0.10 in /usr/local/lib/python3.10/dist-packages (from matplotlib->pingouin) (0.12.1)\n",
            "Requirement already satisfied: fonttools>=4.22.0 in /usr/local/lib/python3.10/dist-packages (from matplotlib->pingouin) (4.49.0)\n",
            "Requirement already satisfied: kiwisolver>=1.0.1 in /usr/local/lib/python3.10/dist-packages (from matplotlib->pingouin) (1.4.5)\n",
            "Requirement already satisfied: packaging>=20.0 in /usr/local/lib/python3.10/dist-packages (from matplotlib->pingouin) (23.2)\n",
            "Requirement already satisfied: pillow>=6.2.0 in /usr/local/lib/python3.10/dist-packages (from matplotlib->pingouin) (9.4.0)\n",
            "Requirement already satisfied: pyparsing>=2.3.1 in /usr/local/lib/python3.10/dist-packages (from matplotlib->pingouin) (3.1.1)\n",
            "Requirement already satisfied: xarray in /usr/local/lib/python3.10/dist-packages (from pandas-flavor->pingouin) (2023.7.0)\n",
            "Requirement already satisfied: joblib>=1.1.1 in /usr/local/lib/python3.10/dist-packages (from scikit-learn->pingouin) (1.3.2)\n",
            "Requirement already satisfied: threadpoolctl>=2.0.0 in /usr/local/lib/python3.10/dist-packages (from scikit-learn->pingouin) (3.3.0)\n",
            "Requirement already satisfied: patsy>=0.5.4 in /usr/local/lib/python3.10/dist-packages (from statsmodels->pingouin) (0.5.6)\n",
            "Requirement already satisfied: six in /usr/local/lib/python3.10/dist-packages (from patsy>=0.5.4->statsmodels->pingouin) (1.16.0)\n"
          ]
        }
      ],
      "source": [
        "!pip install pingouin\n",
        "import pandas as pd\n",
        "import seaborn as sns\n",
        "import pingouin as pg\n",
        "import statsmodels.api as sm\n",
        "from statsmodels.formula.api import ols\n",
        "from statsmodels.stats.multicomp import pairwise_tukeyhsd\n",
        "from scipy.stats import shapiro, levene, kruskal\n",
        "from pingouin import pairwise_ttests\n",
        "import itertools"
      ]
    },
    {
      "cell_type": "markdown",
      "source": [
        "## Importing Dataset"
      ],
      "metadata": {
        "id": "zB8MU2AqdhgD"
      }
    },
    {
      "cell_type": "code",
      "source": [
        "df = pd.read_excel('12.xlsx')\n",
        "# Names for subsequent process\n",
        "column_names = df.columns\n",
        "print(column_names)\n",
        "df.shape"
      ],
      "metadata": {
        "id": "7wH9g_Yrdm66",
        "colab": {
          "base_uri": "https://localhost:8080/"
        },
        "outputId": "c8741abf-2a91-404e-c335-5b2394f2c81e"
      },
      "execution_count": null,
      "outputs": [
        {
          "output_type": "stream",
          "name": "stdout",
          "text": [
            "Index(['Code', 'Time (Month)', 'Free_Acidity (% oleic acid)',\n",
            "       'Peroxide_Value (mEqO2/Kg olive oil)', 'K232', 'K268',\n",
            "       'Oxidative_Stability (h)', 'TPC (mg galic acid/Kg olive oil)',\n",
            "       'DPPH (%inhibition)', '1_Penten_3_one', '3_Pentanone', '1_Pentanol',\n",
            "       '(E)_2_Pentenal', '(Z)_2_Penten_1_ol', '(Z)_3_Hexenal', '(E)_2_Hexenal',\n",
            "       '(Z)_3_Hexen_1_ol', '(E)_2_Hexenol', '1_Hexanol', '2_Heptanone',\n",
            "       '3_Ethyl_1,5_octadiene(IsomerI)', 'Heptanal', '(E,E)_2,4_Hexadienal',\n",
            "       '(Z)_2_Pentenylacetate', '3_Ethyl_1,5_octadieneIsomerII',\n",
            "       '3_Ethyl_1,5_octadieneIsomerIII', '(E)_2_Heptenal',\n",
            "       '(E)_4_Oxohex_2_enal', '1_Heptanol', 'Hexanoic_acid',\n",
            "       '6_methyl_5_Hepten_2_one', 'β_Myrcene', '(E,E)_2,4,Heptadienal',\n",
            "       '4,8_dimethyl_1,7_Nonadiene', 'Decane', 'Octanal',\n",
            "       '(Z)_3_hexenylacetate', 'Hexyl_ester_acetic_acid', 'D_Limonene',\n",
            "       '2_ethyl_1_Hexanol', '3,3,6_trimethyl_1,5_Heptadien_4_one',\n",
            "       'Phenylacetaldehyde', '(E)_β_Ocimene', 'γ_Caprolactone',\n",
            "       '(E)_2_Octenal', '1_Octanol', 'Heptanoic_acid', 'Methyl_benzoate',\n",
            "       '2_methyl_6_methylene_1,7_Octadien_3_one', 'β_Linalool', 'Nonanal',\n",
            "       'Phenylethyl_Alcohol', 'Geranyl_nitrile', 'Citronellol', 'Naphthalene',\n",
            "       'Methyl_salicylate', 'Dodecane', '4,8_Dimethyl_1_nonanol',\n",
            "       '(E)_2_Decenal', 'α_copaene', 'Dodecanal', 'α_Farnesene', 'O_Green',\n",
            "       'O_Mature', 'O_Apple', 'O_Tomato', 'O_Dry fruits', 'O_Banana',\n",
            "       'O_Fresh herbs', 'O_Tomate leave', 'O_Cabbage', 'O_Dry Herbs',\n",
            "       'O_Olive Leave', 'G_Mature', 'G_Green', 'G_Sweet', 'G_Bitter',\n",
            "       'G_Pungent', 'G_Apple', 'G_Tomato', 'G_Dry fruits', 'G_Banana',\n",
            "       'G_Fresh Herbs', 'G_Tomate leave', 'G_Hay', 'G_Cabbage',\n",
            "       'G_Olive leave', 'G_Rancid', 'Complexity', 'Persistence'],\n",
            "      dtype='object')\n"
          ]
        },
        {
          "output_type": "execute_result",
          "data": {
            "text/plain": [
              "(252, 90)"
            ]
          },
          "metadata": {},
          "execution_count": 2
        }
      ]
    },
    {
      "cell_type": "code",
      "source": [
        "df['K232'].describe()"
      ],
      "metadata": {
        "colab": {
          "base_uri": "https://localhost:8080/"
        },
        "id": "zm_MoiFQ4xa1",
        "outputId": "3ed7d38e-9667-4f89-9e9e-f8112ea6b65a"
      },
      "execution_count": null,
      "outputs": [
        {
          "output_type": "execute_result",
          "data": {
            "text/plain": [
              "count    252.000000\n",
              "mean      36.951468\n",
              "std        9.622533\n",
              "min       20.190000\n",
              "25%       29.160000\n",
              "50%       36.685000\n",
              "75%       43.682500\n",
              "max       58.780000\n",
              "Name: DPPH (%inhibition), dtype: float64"
            ]
          },
          "metadata": {},
          "execution_count": 78
        }
      ]
    },
    {
      "cell_type": "markdown",
      "source": [
        "### Subsetting"
      ],
      "metadata": {
        "id": "oyNo0FjFdtL6"
      }
    },
    {
      "cell_type": "code",
      "source": [
        "resp = df[['Code', 'Time (Month)', 'K232']]\n",
        "resp"
      ],
      "metadata": {
        "colab": {
          "base_uri": "https://localhost:8080/",
          "height": 424
        },
        "id": "SC8EEfN1dvEl",
        "outputId": "042851db-7aa6-4fc9-8b53-9037fd05ecac"
      },
      "execution_count": null,
      "outputs": [
        {
          "output_type": "execute_result",
          "data": {
            "text/plain": [
              "    Code  Time (Month)  DPPH (%inhibition)\n",
              "0      C             0               53.95\n",
              "1      C             0               52.96\n",
              "2      C             0               51.68\n",
              "3      C             0               51.34\n",
              "4      C             0               52.67\n",
              "..   ...           ...                 ...\n",
              "247  C.2            12               28.53\n",
              "248  C.2            12               28.96\n",
              "249  C.2            12               27.96\n",
              "250  C.2            12               26.39\n",
              "251  C.2            12               27.39\n",
              "\n",
              "[252 rows x 3 columns]"
            ],
            "text/html": [
              "\n",
              "  <div id=\"df-cf4b7b37-8142-4254-afcc-d131eac7c166\" class=\"colab-df-container\">\n",
              "    <div>\n",
              "<style scoped>\n",
              "    .dataframe tbody tr th:only-of-type {\n",
              "        vertical-align: middle;\n",
              "    }\n",
              "\n",
              "    .dataframe tbody tr th {\n",
              "        vertical-align: top;\n",
              "    }\n",
              "\n",
              "    .dataframe thead th {\n",
              "        text-align: right;\n",
              "    }\n",
              "</style>\n",
              "<table border=\"1\" class=\"dataframe\">\n",
              "  <thead>\n",
              "    <tr style=\"text-align: right;\">\n",
              "      <th></th>\n",
              "      <th>Code</th>\n",
              "      <th>Time (Month)</th>\n",
              "      <th>DPPH (%inhibition)</th>\n",
              "    </tr>\n",
              "  </thead>\n",
              "  <tbody>\n",
              "    <tr>\n",
              "      <th>0</th>\n",
              "      <td>C</td>\n",
              "      <td>0</td>\n",
              "      <td>53.95</td>\n",
              "    </tr>\n",
              "    <tr>\n",
              "      <th>1</th>\n",
              "      <td>C</td>\n",
              "      <td>0</td>\n",
              "      <td>52.96</td>\n",
              "    </tr>\n",
              "    <tr>\n",
              "      <th>2</th>\n",
              "      <td>C</td>\n",
              "      <td>0</td>\n",
              "      <td>51.68</td>\n",
              "    </tr>\n",
              "    <tr>\n",
              "      <th>3</th>\n",
              "      <td>C</td>\n",
              "      <td>0</td>\n",
              "      <td>51.34</td>\n",
              "    </tr>\n",
              "    <tr>\n",
              "      <th>4</th>\n",
              "      <td>C</td>\n",
              "      <td>0</td>\n",
              "      <td>52.67</td>\n",
              "    </tr>\n",
              "    <tr>\n",
              "      <th>...</th>\n",
              "      <td>...</td>\n",
              "      <td>...</td>\n",
              "      <td>...</td>\n",
              "    </tr>\n",
              "    <tr>\n",
              "      <th>247</th>\n",
              "      <td>C.2</td>\n",
              "      <td>12</td>\n",
              "      <td>28.53</td>\n",
              "    </tr>\n",
              "    <tr>\n",
              "      <th>248</th>\n",
              "      <td>C.2</td>\n",
              "      <td>12</td>\n",
              "      <td>28.96</td>\n",
              "    </tr>\n",
              "    <tr>\n",
              "      <th>249</th>\n",
              "      <td>C.2</td>\n",
              "      <td>12</td>\n",
              "      <td>27.96</td>\n",
              "    </tr>\n",
              "    <tr>\n",
              "      <th>250</th>\n",
              "      <td>C.2</td>\n",
              "      <td>12</td>\n",
              "      <td>26.39</td>\n",
              "    </tr>\n",
              "    <tr>\n",
              "      <th>251</th>\n",
              "      <td>C.2</td>\n",
              "      <td>12</td>\n",
              "      <td>27.39</td>\n",
              "    </tr>\n",
              "  </tbody>\n",
              "</table>\n",
              "<p>252 rows × 3 columns</p>\n",
              "</div>\n",
              "    <div class=\"colab-df-buttons\">\n",
              "\n",
              "  <div class=\"colab-df-container\">\n",
              "    <button class=\"colab-df-convert\" onclick=\"convertToInteractive('df-cf4b7b37-8142-4254-afcc-d131eac7c166')\"\n",
              "            title=\"Convert this dataframe to an interactive table.\"\n",
              "            style=\"display:none;\">\n",
              "\n",
              "  <svg xmlns=\"http://www.w3.org/2000/svg\" height=\"24px\" viewBox=\"0 -960 960 960\">\n",
              "    <path d=\"M120-120v-720h720v720H120Zm60-500h600v-160H180v160Zm220 220h160v-160H400v160Zm0 220h160v-160H400v160ZM180-400h160v-160H180v160Zm440 0h160v-160H620v160ZM180-180h160v-160H180v160Zm440 0h160v-160H620v160Z\"/>\n",
              "  </svg>\n",
              "    </button>\n",
              "\n",
              "  <style>\n",
              "    .colab-df-container {\n",
              "      display:flex;\n",
              "      gap: 12px;\n",
              "    }\n",
              "\n",
              "    .colab-df-convert {\n",
              "      background-color: #E8F0FE;\n",
              "      border: none;\n",
              "      border-radius: 50%;\n",
              "      cursor: pointer;\n",
              "      display: none;\n",
              "      fill: #1967D2;\n",
              "      height: 32px;\n",
              "      padding: 0 0 0 0;\n",
              "      width: 32px;\n",
              "    }\n",
              "\n",
              "    .colab-df-convert:hover {\n",
              "      background-color: #E2EBFA;\n",
              "      box-shadow: 0px 1px 2px rgba(60, 64, 67, 0.3), 0px 1px 3px 1px rgba(60, 64, 67, 0.15);\n",
              "      fill: #174EA6;\n",
              "    }\n",
              "\n",
              "    .colab-df-buttons div {\n",
              "      margin-bottom: 4px;\n",
              "    }\n",
              "\n",
              "    [theme=dark] .colab-df-convert {\n",
              "      background-color: #3B4455;\n",
              "      fill: #D2E3FC;\n",
              "    }\n",
              "\n",
              "    [theme=dark] .colab-df-convert:hover {\n",
              "      background-color: #434B5C;\n",
              "      box-shadow: 0px 1px 3px 1px rgba(0, 0, 0, 0.15);\n",
              "      filter: drop-shadow(0px 1px 2px rgba(0, 0, 0, 0.3));\n",
              "      fill: #FFFFFF;\n",
              "    }\n",
              "  </style>\n",
              "\n",
              "    <script>\n",
              "      const buttonEl =\n",
              "        document.querySelector('#df-cf4b7b37-8142-4254-afcc-d131eac7c166 button.colab-df-convert');\n",
              "      buttonEl.style.display =\n",
              "        google.colab.kernel.accessAllowed ? 'block' : 'none';\n",
              "\n",
              "      async function convertToInteractive(key) {\n",
              "        const element = document.querySelector('#df-cf4b7b37-8142-4254-afcc-d131eac7c166');\n",
              "        const dataTable =\n",
              "          await google.colab.kernel.invokeFunction('convertToInteractive',\n",
              "                                                    [key], {});\n",
              "        if (!dataTable) return;\n",
              "\n",
              "        const docLinkHtml = 'Like what you see? Visit the ' +\n",
              "          '<a target=\"_blank\" href=https://colab.research.google.com/notebooks/data_table.ipynb>data table notebook</a>'\n",
              "          + ' to learn more about interactive tables.';\n",
              "        element.innerHTML = '';\n",
              "        dataTable['output_type'] = 'display_data';\n",
              "        await google.colab.output.renderOutput(dataTable, element);\n",
              "        const docLink = document.createElement('div');\n",
              "        docLink.innerHTML = docLinkHtml;\n",
              "        element.appendChild(docLink);\n",
              "      }\n",
              "    </script>\n",
              "  </div>\n",
              "\n",
              "\n",
              "<div id=\"df-cf6da447-a853-45a0-8155-b87a256904ee\">\n",
              "  <button class=\"colab-df-quickchart\" onclick=\"quickchart('df-cf6da447-a853-45a0-8155-b87a256904ee')\"\n",
              "            title=\"Suggest charts\"\n",
              "            style=\"display:none;\">\n",
              "\n",
              "<svg xmlns=\"http://www.w3.org/2000/svg\" height=\"24px\"viewBox=\"0 0 24 24\"\n",
              "     width=\"24px\">\n",
              "    <g>\n",
              "        <path d=\"M19 3H5c-1.1 0-2 .9-2 2v14c0 1.1.9 2 2 2h14c1.1 0 2-.9 2-2V5c0-1.1-.9-2-2-2zM9 17H7v-7h2v7zm4 0h-2V7h2v10zm4 0h-2v-4h2v4z\"/>\n",
              "    </g>\n",
              "</svg>\n",
              "  </button>\n",
              "\n",
              "<style>\n",
              "  .colab-df-quickchart {\n",
              "      --bg-color: #E8F0FE;\n",
              "      --fill-color: #1967D2;\n",
              "      --hover-bg-color: #E2EBFA;\n",
              "      --hover-fill-color: #174EA6;\n",
              "      --disabled-fill-color: #AAA;\n",
              "      --disabled-bg-color: #DDD;\n",
              "  }\n",
              "\n",
              "  [theme=dark] .colab-df-quickchart {\n",
              "      --bg-color: #3B4455;\n",
              "      --fill-color: #D2E3FC;\n",
              "      --hover-bg-color: #434B5C;\n",
              "      --hover-fill-color: #FFFFFF;\n",
              "      --disabled-bg-color: #3B4455;\n",
              "      --disabled-fill-color: #666;\n",
              "  }\n",
              "\n",
              "  .colab-df-quickchart {\n",
              "    background-color: var(--bg-color);\n",
              "    border: none;\n",
              "    border-radius: 50%;\n",
              "    cursor: pointer;\n",
              "    display: none;\n",
              "    fill: var(--fill-color);\n",
              "    height: 32px;\n",
              "    padding: 0;\n",
              "    width: 32px;\n",
              "  }\n",
              "\n",
              "  .colab-df-quickchart:hover {\n",
              "    background-color: var(--hover-bg-color);\n",
              "    box-shadow: 0 1px 2px rgba(60, 64, 67, 0.3), 0 1px 3px 1px rgba(60, 64, 67, 0.15);\n",
              "    fill: var(--button-hover-fill-color);\n",
              "  }\n",
              "\n",
              "  .colab-df-quickchart-complete:disabled,\n",
              "  .colab-df-quickchart-complete:disabled:hover {\n",
              "    background-color: var(--disabled-bg-color);\n",
              "    fill: var(--disabled-fill-color);\n",
              "    box-shadow: none;\n",
              "  }\n",
              "\n",
              "  .colab-df-spinner {\n",
              "    border: 2px solid var(--fill-color);\n",
              "    border-color: transparent;\n",
              "    border-bottom-color: var(--fill-color);\n",
              "    animation:\n",
              "      spin 1s steps(1) infinite;\n",
              "  }\n",
              "\n",
              "  @keyframes spin {\n",
              "    0% {\n",
              "      border-color: transparent;\n",
              "      border-bottom-color: var(--fill-color);\n",
              "      border-left-color: var(--fill-color);\n",
              "    }\n",
              "    20% {\n",
              "      border-color: transparent;\n",
              "      border-left-color: var(--fill-color);\n",
              "      border-top-color: var(--fill-color);\n",
              "    }\n",
              "    30% {\n",
              "      border-color: transparent;\n",
              "      border-left-color: var(--fill-color);\n",
              "      border-top-color: var(--fill-color);\n",
              "      border-right-color: var(--fill-color);\n",
              "    }\n",
              "    40% {\n",
              "      border-color: transparent;\n",
              "      border-right-color: var(--fill-color);\n",
              "      border-top-color: var(--fill-color);\n",
              "    }\n",
              "    60% {\n",
              "      border-color: transparent;\n",
              "      border-right-color: var(--fill-color);\n",
              "    }\n",
              "    80% {\n",
              "      border-color: transparent;\n",
              "      border-right-color: var(--fill-color);\n",
              "      border-bottom-color: var(--fill-color);\n",
              "    }\n",
              "    90% {\n",
              "      border-color: transparent;\n",
              "      border-bottom-color: var(--fill-color);\n",
              "    }\n",
              "  }\n",
              "</style>\n",
              "\n",
              "  <script>\n",
              "    async function quickchart(key) {\n",
              "      const quickchartButtonEl =\n",
              "        document.querySelector('#' + key + ' button');\n",
              "      quickchartButtonEl.disabled = true;  // To prevent multiple clicks.\n",
              "      quickchartButtonEl.classList.add('colab-df-spinner');\n",
              "      try {\n",
              "        const charts = await google.colab.kernel.invokeFunction(\n",
              "            'suggestCharts', [key], {});\n",
              "      } catch (error) {\n",
              "        console.error('Error during call to suggestCharts:', error);\n",
              "      }\n",
              "      quickchartButtonEl.classList.remove('colab-df-spinner');\n",
              "      quickchartButtonEl.classList.add('colab-df-quickchart-complete');\n",
              "    }\n",
              "    (() => {\n",
              "      let quickchartButtonEl =\n",
              "        document.querySelector('#df-cf6da447-a853-45a0-8155-b87a256904ee button');\n",
              "      quickchartButtonEl.style.display =\n",
              "        google.colab.kernel.accessAllowed ? 'block' : 'none';\n",
              "    })();\n",
              "  </script>\n",
              "</div>\n",
              "    </div>\n",
              "  </div>\n"
            ],
            "application/vnd.google.colaboratory.intrinsic+json": {
              "type": "dataframe",
              "variable_name": "resp",
              "summary": "{\n  \"name\": \"resp\",\n  \"rows\": 252,\n  \"fields\": [\n    {\n      \"column\": \"Code\",\n      \"properties\": {\n        \"dtype\": \"category\",\n        \"num_unique_values\": 6,\n        \"samples\": [\n          \"C\",\n          \"A\",\n          \"C.2\"\n        ],\n        \"semantic_type\": \"\",\n        \"description\": \"\"\n      }\n    },\n    {\n      \"column\": \"Time (Month)\",\n      \"properties\": {\n        \"dtype\": \"number\",\n        \"std\": 4,\n        \"min\": 0,\n        \"max\": 12,\n        \"num_unique_values\": 7,\n        \"samples\": [\n          0,\n          2,\n          10\n        ],\n        \"semantic_type\": \"\",\n        \"description\": \"\"\n      }\n    },\n    {\n      \"column\": \"DPPH (%inhibition)\",\n      \"properties\": {\n        \"dtype\": \"number\",\n        \"std\": 9.622532685620806,\n        \"min\": 20.19,\n        \"max\": 58.78,\n        \"num_unique_values\": 240,\n        \"samples\": [\n          35.57,\n          21.25,\n          37.66\n        ],\n        \"semantic_type\": \"\",\n        \"description\": \"\"\n      }\n    }\n  ]\n}"
            }
          },
          "metadata": {},
          "execution_count": 79
        }
      ]
    },
    {
      "cell_type": "code",
      "source": [
        "resp['Code'].unique()"
      ],
      "metadata": {
        "colab": {
          "base_uri": "https://localhost:8080/"
        },
        "id": "-gYB1Fyqg99I",
        "outputId": "204495d7-3a30-4560-abfc-cd6232975e06"
      },
      "execution_count": null,
      "outputs": [
        {
          "output_type": "execute_result",
          "data": {
            "text/plain": [
              "array(['C', 'A', 'C.8', 'C.6', 'C.4', 'C.2'], dtype=object)"
            ]
          },
          "metadata": {},
          "execution_count": 4
        }
      ]
    },
    {
      "cell_type": "code",
      "source": [
        "resp['Time (Month)'].unique()"
      ],
      "metadata": {
        "colab": {
          "base_uri": "https://localhost:8080/"
        },
        "id": "HOEQLiURhgZj",
        "outputId": "847ce82a-9513-4ad5-f3f2-7fc4f730f726"
      },
      "execution_count": null,
      "outputs": [
        {
          "output_type": "execute_result",
          "data": {
            "text/plain": [
              "array([ 0,  2,  4,  6,  8, 10, 12])"
            ]
          },
          "metadata": {},
          "execution_count": 26
        }
      ]
    },
    {
      "cell_type": "markdown",
      "source": [
        "### Visualización"
      ],
      "metadata": {
        "id": "65oM9rOdeGeI"
      }
    },
    {
      "cell_type": "code",
      "source": [
        "sns.displot(data=resp.iloc[:, 2], kde=True, rug=True)"
      ],
      "metadata": {
        "colab": {
          "base_uri": "https://localhost:8080/",
          "height": 524
        },
        "id": "BgkfzvZweCGe",
        "outputId": "ed6da22e-7027-4d61-b964-6ae626dd5789"
      },
      "execution_count": null,
      "outputs": [
        {
          "output_type": "execute_result",
          "data": {
            "text/plain": [
              "<seaborn.axisgrid.FacetGrid at 0x7d5bbae87c10>"
            ]
          },
          "metadata": {},
          "execution_count": 80
        },
        {
          "output_type": "display_data",
          "data": {
            "text/plain": [
              "<Figure size 500x500 with 1 Axes>"
            ],
            "image/png": "[encoded data removed]"
          },
          "metadata": {}
        }
      ]
    },
    {
      "cell_type": "markdown",
      "source": [
        "### Verification of assumptions"
      ],
      "metadata": {
        "id": "t8eynzM46tU0"
      }
    },
    {
      "cell_type": "code",
      "source": [
        "# Step 1: Normality check\n",
        "for code in resp['Time (Month)'].unique():\n",
        "    group_data = resp[resp['Time (Month)'] == code].iloc[:, 2]\n",
        "    # Visual inspection\n",
        "    sns.displot(group_data, kde=True, rug=True)\n",
        "    # Statistical test\n",
        "    shapiro_test_statistic, shapiro_p_value = shapiro(group_data)\n",
        "    print(f\"Shapiro-Wilk test for group {'Time (Month)'}: p-value = {shapiro_p_value}\")\n",
        "# p> 0.05 = normal distribution of data, make confirmation with plots\n",
        "# If p-value < 0.05: Reject Ho, which means that the data do not follow a normal distribution (supporting Ha)."
      ],
      "metadata": {
        "colab": {
          "base_uri": "https://localhost:8080/",
          "height": 1000
        },
        "id": "uYCc84Q-6r_b",
        "outputId": "0fb6c8e4-d5eb-48d5-bd94-542d2eeac273"
      },
      "execution_count": null,
      "outputs": [
        {
          "output_type": "stream",
          "name": "stdout",
          "text": [
            "Shapiro-Wilk test for group Time (Month): p-value = 0.06384312361478806\n",
            "Shapiro-Wilk test for group Time (Month): p-value = 0.01528166513890028\n",
            "Shapiro-Wilk test for group Time (Month): p-value = 0.008492153137922287\n",
            "Shapiro-Wilk test for group Time (Month): p-value = 0.2063593566417694\n",
            "Shapiro-Wilk test for group Time (Month): p-value = 0.058162689208984375\n",
            "Shapiro-Wilk test for group Time (Month): p-value = 0.17951470613479614\n",
            "Shapiro-Wilk test for group Time (Month): p-value = 0.0009800983825698495\n"
          ]
        },
        {
          "output_type": "display_data",
          "data": {
            "text/plain": [
              "<Figure size 500x500 with 1 Axes>"
            ],
            "image/png": "[encoded data removed]"
          },
          "metadata": {}
        },
        {
          "output_type": "display_data",
          "data": {
            "text/plain": [
              "<Figure size 500x500 with 1 Axes>"
            ],
            "image/png": "[encoded data removed]"
          },
          "metadata": {}
        },
        {
          "output_type": "display_data",
          "data": {
            "text/plain": [
              "<Figure size 500x500 with 1 Axes>"
            ],
            "image/png": "[encoded data removed]"
          },
          "metadata": {}
        },
        {
          "output_type": "display_data",
          "data": {
            "text/plain": [
              "<Figure size 500x500 with 1 Axes>"
            ],
            "image/png": "[encoded data removed]"
          },
          "metadata": {}
        },
        {
          "output_type": "display_data",
          "data": {
            "text/plain": [
              "<Figure size 500x500 with 1 Axes>"
            ],
            "image/png": "[encoded data removed]"
          },
          "metadata": {}
        },
        {
          "output_type": "display_data",
          "data": {
            "text/plain": [
              "<Figure size 500x500 with 1 Axes>"
            ],
            "image/png": "[encoded data removed]"
          },
          "metadata": {}
        },
        {
          "output_type": "display_data",
          "data": {
            "text/plain": [
              "<Figure size 500x500 with 1 Axes>"
            ],
            "image/png": "[encoded data removed]"
          },
          "metadata": {}
        }
      ]
    },
    {
      "cell_type": "code",
      "source": [
        "# Step 2: Homogeneity of variances check\n",
        "# Visual inspection\n",
        "sns.boxplot(x='Time (Month)', y=resp.iloc[:, 2], data=resp)\n",
        "# Statistical test\n",
        "levene_test_statistic, levene_p_value = levene(*[resp[resp['Time (Month)'] == time].iloc[:, 2] for time in resp['Time (Month)'].unique()])\n",
        "print(f\"Levene's test for homogeneity of variances: p-value = {levene_p_value}\")\n",
        "# p> 0.05 = homogeneity of variance within data, make confirmation with plots\n",
        "# p<0.05 = Ha\n",
        "# If p-value < 0.05: Reject Ho, which means that the data do not follow homogeneity of variance (supporting Ha)."
      ],
      "metadata": {
        "colab": {
          "base_uri": "https://localhost:8080/",
          "height": 466
        },
        "id": "yeAsdocb7jV6",
        "outputId": "d111b35e-e10a-4a63-84ef-d4ef8d0a99c9"
      },
      "execution_count": null,
      "outputs": [
        {
          "output_type": "stream",
          "name": "stdout",
          "text": [
            "Levene's test for homogeneity of variances: p-value = 0.34357850083887786\n"
          ]
        },
        {
          "output_type": "display_data",
          "data": {
            "text/plain": [
              "<Figure size 640x480 with 1 Axes>"
            ],
            "image/png": "[encoded data removed]"
          },
          "metadata": {}
        }
      ]
    },
    {
      "cell_type": "markdown",
      "source": [
        "#### Non-parametric tests\n",
        "\n"
      ],
      "metadata": {
        "id": "TynUDzZA-mKp"
      }
    },
    {
      "cell_type": "markdown",
      "source": [
        "##### non parametric mean comparison of 3 or more groups"
      ],
      "metadata": {
        "id": "lt4mbCGXTWes"
      }
    },
    {
      "cell_type": "code",
      "source": [
        "# Perform Kruskal-Wallis test for main effects of 'Code' and 'Time'\n",
        "kruskal_code = kruskal(*[group_data.iloc[:, 2] for _, group_data in resp.groupby('Code')])\n",
        "kruskal_time = kruskal(*[group_data.iloc[:, 2] for _, group_data in resp.groupby('Time (Month)')])\n",
        "\n",
        "print(\"Kruskal-Wallis test for main effect of 'Code':\")\n",
        "print(kruskal_code)\n",
        "print(\"\\nKruskal-Wallis test for main effect of 'Time':\")\n",
        "print(kruskal_time)\n",
        "\n",
        "# Non-parametric post-hoc test for 'Code' factor (e.g., Dunn's test)\n",
        "posthoc_code = pairwise_ttests(data=resp, dv=resp.columns[2], between='Code', padjust='holm')\n",
        "\n",
        "# Non-parametric post-hoc test for 'Time' factor (e.g., Dunn's test)\n",
        "##posthoc_time = pairwise_ttests(data=resp, dv='DPPH (%inhibition)', between='Time (Month)', padjust='holm')\n",
        "\n",
        "print(\"\\nPost-hoc pairwise comparisons for 'Code' factor:\")\n",
        "print(posthoc_code)\n",
        "##print(\"\\nPost-hoc pairwise comparisons for 'Time' factor:\")\n",
        "##print(posthoc_time)\n",
        "\n",
        "## If p-corr < 0.05: Reject Ho, which means that the means are different (supporting Ha).\n",
        "## BF10 >1 in favor of Ha, if BF10= 10 => 10 time change Ha rather than H0\n",
        "## Hedges >0 = \"A\" group higher mean than \"B\"\n",
        "## gral rule 0.2 (small effect), 0.5 (mid) y 0.8 (high)"
      ],
      "metadata": {
        "colab": {
          "base_uri": "https://localhost:8080/"
        },
        "id": "OwGcYxGu-lI7",
        "outputId": "4204e4ba-69a5-411f-a507-6794a40c29f4"
      },
      "execution_count": null,
      "outputs": [
        {
          "output_type": "stream",
          "name": "stdout",
          "text": [
            "Kruskal-Wallis test for main effect of 'Code':\n",
            "KruskalResult(statistic=213.6930239161664, pvalue=3.3322406726524357e-44)\n",
            "\n",
            "Kruskal-Wallis test for main effect of 'Time':\n",
            "KruskalResult(statistic=29.149843997470715, pvalue=5.699020438087058e-05)\n",
            "\n",
            "Post-hoc pairwise comparisons for 'Code' factor:\n",
            "   Contrast    A    B  Paired  Parametric          T   dof alternative  \\\n",
            "0      Code    A    C   False        True -23.521793  82.0   two-sided   \n",
            "1      Code    A  C.2   False        True -13.569704  82.0   two-sided   \n",
            "2      Code    A  C.4   False        True -18.861163  82.0   two-sided   \n",
            "3      Code    A  C.6   False        True -25.982494  82.0   two-sided   \n",
            "4      Code    A  C.8   False        True -29.232360  82.0   two-sided   \n",
            "5      Code    C  C.2   False        True  17.266436  82.0   two-sided   \n",
            "6      Code    C  C.4   False        True  12.764919  82.0   two-sided   \n",
            "7      Code    C  C.6   False        True   7.965924  82.0   two-sided   \n",
            "8      Code    C  C.8   False        True   2.883529  82.0   two-sided   \n",
            "9      Code  C.2  C.4   False        True  -6.963494  82.0   two-sided   \n",
            "10     Code  C.2  C.6   False        True -14.309288  82.0   two-sided   \n",
            "11     Code  C.2  C.8   False        True -19.460231  82.0   two-sided   \n",
            "12     Code  C.4  C.6   False        True  -7.066283  82.0   two-sided   \n",
            "13     Code  C.4  C.8   False        True -12.911358  82.0   two-sided   \n",
            "14     Code  C.6  C.8   False        True  -6.459343  82.0   two-sided   \n",
            "\n",
            "           p-unc        p-corr p-adjust       BF10    hedges  \n",
            "0   3.295329e-38  4.283927e-37     holm  3.701e+34 -5.085786  \n",
            "1   1.144141e-22  9.153128e-22     holm  2.253e+19 -2.933986  \n",
            "2   1.458571e-31  1.604429e-30     holm  1.108e+28 -4.078083  \n",
            "3   2.450734e-41  3.431028e-40     holm  4.413e+37 -5.617828  \n",
            "4   3.954334e-45  5.931501e-44     holm  2.382e+41 -6.320501  \n",
            "5   4.833037e-29  4.833037e-28     holm  3.766e+25  3.733278  \n",
            "6   3.502264e-21  2.101359e-20     holm  8.088e+17  2.759978  \n",
            "7   8.161488e-12  4.080744e-11     holm  7.793e+08  1.722359  \n",
            "8   5.020816e-03  5.020816e-03     holm      7.785  0.623465  \n",
            "9   7.550705e-10  2.265211e-09     holm  1.084e+07 -1.505618  \n",
            "10  5.286549e-24  4.757894e-23     holm  4.503e+20 -3.093895  \n",
            "11  1.783839e-32  2.140607e-31     holm  8.693e+28 -4.207611  \n",
            "12  4.770220e-10  1.908088e-09     holm  1.669e+07 -1.527843  \n",
            "13  1.868547e-21  1.307983e-20     holm  1.489e+18 -2.791641  \n",
            "14  7.014409e-09  1.402882e-08     holm  1.347e+06 -1.396613  \n"
          ]
        },
        {
          "output_type": "stream",
          "name": "stderr",
          "text": [
            "/usr/local/lib/python3.10/dist-packages/pingouin/pairwise.py:28: UserWarning: pairwise_ttests is deprecated, use pairwise_tests instead.\n",
            "  warnings.warn(\"pairwise_ttests is deprecated, use pairwise_tests instead.\", UserWarning)\n"
          ]
        }
      ]
    },
    {
      "cell_type": "code",
      "source": [
        "# Export the post-hoc pairwise comparisons to Excel\n",
        "posthoc_code.to_excel('posthoc_code_results.xlsx', index=False)"
      ],
      "metadata": {
        "id": "6rWM8hdliPeA"
      },
      "execution_count": null,
      "outputs": []
    },
    {
      "cell_type": "markdown",
      "source": [
        "##### Non parametric mean comparison repeated meassures"
      ],
      "metadata": {
        "id": "Bw2Cr57HTjcG"
      }
    },
    {
      "cell_type": "code",
      "source": [
        "pg.friedman(data=df, dv=\"K232\", within=\"Time (Month)\", subject=\"Code\")"
      ],
      "metadata": {
        "colab": {
          "base_uri": "https://localhost:8080/",
          "height": 81
        },
        "id": "k4OmKa6VTuYm",
        "outputId": "7e84d7a0-36cd-4a46-b5fa-01305d55e5d9"
      },
      "execution_count": null,
      "outputs": [
        {
          "output_type": "execute_result",
          "data": {
            "text/plain": [
              "                Source        W  ddof1          Q   p-unc\n",
              "Friedman  Time (Month)  0.77381      6  27.857143  0.0001"
            ],
            "text/html": [
              "\n",
              "  <div id=\"df-2c779334-4dcd-404c-a80f-2f514333b46d\" class=\"colab-df-container\">\n",
              "    <div>\n",
              "<style scoped>\n",
              "    .dataframe tbody tr th:only-of-type {\n",
              "        vertical-align: middle;\n",
              "    }\n",
              "\n",
              "    .dataframe tbody tr th {\n",
              "        vertical-align: top;\n",
              "    }\n",
              "\n",
              "    .dataframe thead th {\n",
              "        text-align: right;\n",
              "    }\n",
              "</style>\n",
              "<table border=\"1\" class=\"dataframe\">\n",
              "  <thead>\n",
              "    <tr style=\"text-align: right;\">\n",
              "      <th></th>\n",
              "      <th>Source</th>\n",
              "      <th>W</th>\n",
              "      <th>ddof1</th>\n",
              "      <th>Q</th>\n",
              "      <th>p-unc</th>\n",
              "    </tr>\n",
              "  </thead>\n",
              "  <tbody>\n",
              "    <tr>\n",
              "      <th>Friedman</th>\n",
              "      <td>Time (Month)</td>\n",
              "      <td>0.77381</td>\n",
              "      <td>6</td>\n",
              "      <td>27.857143</td>\n",
              "      <td>0.0001</td>\n",
              "    </tr>\n",
              "  </tbody>\n",
              "</table>\n",
              "</div>\n",
              "    <div class=\"colab-df-buttons\">\n",
              "\n",
              "  <div class=\"colab-df-container\">\n",
              "    <button class=\"colab-df-convert\" onclick=\"convertToInteractive('df-2c779334-4dcd-404c-a80f-2f514333b46d')\"\n",
              "            title=\"Convert this dataframe to an interactive table.\"\n",
              "            style=\"display:none;\">\n",
              "\n",
              "  <svg xmlns=\"http://www.w3.org/2000/svg\" height=\"24px\" viewBox=\"0 -960 960 960\">\n",
              "    <path d=\"M120-120v-720h720v720H120Zm60-500h600v-160H180v160Zm220 220h160v-160H400v160Zm0 220h160v-160H400v160ZM180-400h160v-160H180v160Zm440 0h160v-160H620v160ZM180-180h160v-160H180v160Zm440 0h160v-160H620v160Z\"/>\n",
              "  </svg>\n",
              "    </button>\n",
              "\n",
              "  <style>\n",
              "    .colab-df-container {\n",
              "      display:flex;\n",
              "      gap: 12px;\n",
              "    }\n",
              "\n",
              "    .colab-df-convert {\n",
              "      background-color: #E8F0FE;\n",
              "      border: none;\n",
              "      border-radius: 50%;\n",
              "      cursor: pointer;\n",
              "      display: none;\n",
              "      fill: #1967D2;\n",
              "      height: 32px;\n",
              "      padding: 0 0 0 0;\n",
              "      width: 32px;\n",
              "    }\n",
              "\n",
              "    .colab-df-convert:hover {\n",
              "      background-color: #E2EBFA;\n",
              "      box-shadow: 0px 1px 2px rgba(60, 64, 67, 0.3), 0px 1px 3px 1px rgba(60, 64, 67, 0.15);\n",
              "      fill: #174EA6;\n",
              "    }\n",
              "\n",
              "    .colab-df-buttons div {\n",
              "      margin-bottom: 4px;\n",
              "    }\n",
              "\n",
              "    [theme=dark] .colab-df-convert {\n",
              "      background-color: #3B4455;\n",
              "      fill: #D2E3FC;\n",
              "    }\n",
              "\n",
              "    [theme=dark] .colab-df-convert:hover {\n",
              "      background-color: #434B5C;\n",
              "      box-shadow: 0px 1px 3px 1px rgba(0, 0, 0, 0.15);\n",
              "      filter: drop-shadow(0px 1px 2px rgba(0, 0, 0, 0.3));\n",
              "      fill: #FFFFFF;\n",
              "    }\n",
              "  </style>\n",
              "\n",
              "    <script>\n",
              "      const buttonEl =\n",
              "        document.querySelector('#df-2c779334-4dcd-404c-a80f-2f514333b46d button.colab-df-convert');\n",
              "      buttonEl.style.display =\n",
              "        google.colab.kernel.accessAllowed ? 'block' : 'none';\n",
              "\n",
              "      async function convertToInteractive(key) {\n",
              "        const element = document.querySelector('#df-2c779334-4dcd-404c-a80f-2f514333b46d');\n",
              "        const dataTable =\n",
              "          await google.colab.kernel.invokeFunction('convertToInteractive',\n",
              "                                                    [key], {});\n",
              "        if (!dataTable) return;\n",
              "\n",
              "        const docLinkHtml = 'Like what you see? Visit the ' +\n",
              "          '<a target=\"_blank\" href=https://colab.research.google.com/notebooks/data_table.ipynb>data table notebook</a>'\n",
              "          + ' to learn more about interactive tables.';\n",
              "        element.innerHTML = '';\n",
              "        dataTable['output_type'] = 'display_data';\n",
              "        await google.colab.output.renderOutput(dataTable, element);\n",
              "        const docLink = document.createElement('div');\n",
              "        docLink.innerHTML = docLinkHtml;\n",
              "        element.appendChild(docLink);\n",
              "      }\n",
              "    </script>\n",
              "  </div>\n",
              "\n",
              "    </div>\n",
              "  </div>\n"
            ],
            "application/vnd.google.colaboratory.intrinsic+json": {
              "type": "dataframe",
              "summary": "{\n  \"name\": \"pg\",\n  \"rows\": 1,\n  \"fields\": [\n    {\n      \"column\": \"Source\",\n      \"properties\": {\n        \"dtype\": \"string\",\n        \"num_unique_values\": 1,\n        \"samples\": [\n          \"Time (Month)\"\n        ],\n        \"semantic_type\": \"\",\n        \"description\": \"\"\n      }\n    },\n    {\n      \"column\": \"W\",\n      \"properties\": {\n        \"dtype\": \"number\",\n        \"std\": null,\n        \"min\": 0.7738095238095238,\n        \"max\": 0.7738095238095238,\n        \"num_unique_values\": 1,\n        \"samples\": [\n          0.7738095238095238\n        ],\n        \"semantic_type\": \"\",\n        \"description\": \"\"\n      }\n    },\n    {\n      \"column\": \"ddof1\",\n      \"properties\": {\n        \"dtype\": \"number\",\n        \"std\": null,\n        \"min\": 6,\n        \"max\": 6,\n        \"num_unique_values\": 1,\n        \"samples\": [\n          6\n        ],\n        \"semantic_type\": \"\",\n        \"description\": \"\"\n      }\n    },\n    {\n      \"column\": \"Q\",\n      \"properties\": {\n        \"dtype\": \"number\",\n        \"std\": null,\n        \"min\": 27.857142857142858,\n        \"max\": 27.857142857142858,\n        \"num_unique_values\": 1,\n        \"samples\": [\n          27.857142857142858\n        ],\n        \"semantic_type\": \"\",\n        \"description\": \"\"\n      }\n    },\n    {\n      \"column\": \"p-unc\",\n      \"properties\": {\n        \"dtype\": \"number\",\n        \"std\": null,\n        \"min\": 9.996527077090558e-05,\n        \"max\": 9.996527077090558e-05,\n        \"num_unique_values\": 1,\n        \"samples\": [\n          9.996527077090558e-05\n        ],\n        \"semantic_type\": \"\",\n        \"description\": \"\"\n      }\n    }\n  ]\n}"
            }
          },
          "metadata": {},
          "execution_count": 83
        }
      ]
    },
    {
      "cell_type": "code",
      "source": [
        "posthoc_time = pg.pairwise_ttests(data=df, dv='K232', within='Time (Month)', subject='Code', padjust='holm')\n",
        "posthoc_time"
      ],
      "metadata": {
        "colab": {
          "base_uri": "https://localhost:8080/",
          "height": 763
        },
        "id": "T1GrGhAbXDMT",
        "outputId": "5b6533bc-101a-40ea-b39a-eb114a5a5563"
      },
      "execution_count": null,
      "outputs": [
        {
          "output_type": "stream",
          "name": "stderr",
          "text": [
            "/usr/local/lib/python3.10/dist-packages/pingouin/pairwise.py:28: UserWarning: pairwise_ttests is deprecated, use pairwise_tests instead.\n",
            "  warnings.warn(\"pairwise_ttests is deprecated, use pairwise_tests instead.\", UserWarning)\n"
          ]
        },
        {
          "output_type": "execute_result",
          "data": {
            "text/plain": [
              "        Contrast   A   B  Paired  Parametric         T  dof alternative  \\\n",
              "0   Time (Month)   0   2    True        True -1.687909  5.0   two-sided   \n",
              "1   Time (Month)   0   4    True        True  4.136520  5.0   two-sided   \n",
              "2   Time (Month)   0   6    True        True -0.688815  5.0   two-sided   \n",
              "3   Time (Month)   0   8    True        True  0.284319  5.0   two-sided   \n",
              "4   Time (Month)   0  10    True        True  4.101364  5.0   two-sided   \n",
              "5   Time (Month)   0  12    True        True  2.865741  5.0   two-sided   \n",
              "6   Time (Month)   2   4    True        True  4.038463  5.0   two-sided   \n",
              "7   Time (Month)   2   6    True        True  0.919476  5.0   two-sided   \n",
              "8   Time (Month)   2   8    True        True  1.201076  5.0   two-sided   \n",
              "9   Time (Month)   2  10    True        True  3.769910  5.0   two-sided   \n",
              "10  Time (Month)   2  12    True        True  3.825068  5.0   two-sided   \n",
              "11  Time (Month)   4   6    True        True -6.223685  5.0   two-sided   \n",
              "12  Time (Month)   4   8    True        True -3.049232  5.0   two-sided   \n",
              "13  Time (Month)   4  10    True        True  2.901254  5.0   two-sided   \n",
              "14  Time (Month)   4  12    True        True  1.953791  5.0   two-sided   \n",
              "15  Time (Month)   6   8    True        True  1.187792  5.0   two-sided   \n",
              "16  Time (Month)   6  10    True        True  6.755302  5.0   two-sided   \n",
              "17  Time (Month)   6  12    True        True  3.484424  5.0   two-sided   \n",
              "18  Time (Month)   8  10    True        True  4.238172  5.0   two-sided   \n",
              "19  Time (Month)   8  12    True        True  3.115897  5.0   two-sided   \n",
              "20  Time (Month)  10  12    True        True  1.093769  5.0   two-sided   \n",
              "\n",
              "       p-unc    p-corr p-adjust    BF10    hedges  \n",
              "0   0.152231  1.000000     holm    0.95 -0.134942  \n",
              "1   0.009028  0.162496     holm   7.453  0.276544  \n",
              "2   0.521591  1.000000     holm   0.452 -0.035271  \n",
              "3   0.787565  1.000000     holm   0.386  0.023931  \n",
              "4   0.009342  0.162496     holm   7.263  0.410807  \n",
              "5   0.035169  0.337414     holm   2.702  0.583792  \n",
              "6   0.009938  0.162496     holm   6.932  0.404064  \n",
              "7   0.400032  1.000000     holm   0.518  0.108275  \n",
              "8   0.283509  1.000000     holm   0.633  0.166278  \n",
              "9   0.013024  0.184641     holm   5.657  0.534357  \n",
              "10  0.012309  0.184641     holm   5.902  0.696696  \n",
              "11  0.001566  0.031325     holm  28.311 -0.331692  \n",
              "12  0.028449  0.316491     holm    3.16 -0.273628  \n",
              "13  0.033741  0.337414     holm   2.786  0.133205  \n",
              "14  0.108144  0.865152     holm   1.203  0.321934  \n",
              "15  0.288259  1.000000     holm   0.627  0.063612  \n",
              "16  0.001079  0.022666     holm  37.715  0.478235  \n",
              "17  0.017575  0.228477     holm    4.52  0.661669  \n",
              "18  0.008184  0.155494     holm   8.026  0.420719  \n",
              "19  0.026374  0.316491     holm   3.342  0.608244  \n",
              "20  0.323928  1.000000     holm   0.584  0.199135  "
            ],
            "text/html": [
              "\n",
              "  <div id=\"df-51e70c56-21e2-45ba-90d3-d5d65b986eb5\" class=\"colab-df-container\">\n",
              "    <div>\n",
              "<style scoped>\n",
              "    .dataframe tbody tr th:only-of-type {\n",
              "        vertical-align: middle;\n",
              "    }\n",
              "\n",
              "    .dataframe tbody tr th {\n",
              "        vertical-align: top;\n",
              "    }\n",
              "\n",
              "    .dataframe thead th {\n",
              "        text-align: right;\n",
              "    }\n",
              "</style>\n",
              "<table border=\"1\" class=\"dataframe\">\n",
              "  <thead>\n",
              "    <tr style=\"text-align: right;\">\n",
              "      <th></th>\n",
              "      <th>Contrast</th>\n",
              "      <th>A</th>\n",
              "      <th>B</th>\n",
              "      <th>Paired</th>\n",
              "      <th>Parametric</th>\n",
              "      <th>T</th>\n",
              "      <th>dof</th>\n",
              "      <th>alternative</th>\n",
              "      <th>p-unc</th>\n",
              "      <th>p-corr</th>\n",
              "      <th>p-adjust</th>\n",
              "      <th>BF10</th>\n",
              "      <th>hedges</th>\n",
              "    </tr>\n",
              "  </thead>\n",
              "  <tbody>\n",
              "    <tr>\n",
              "      <th>0</th>\n",
              "      <td>Time (Month)</td>\n",
              "      <td>0</td>\n",
              "      <td>2</td>\n",
              "      <td>True</td>\n",
              "      <td>True</td>\n",
              "      <td>-1.687909</td>\n",
              "      <td>5.0</td>\n",
              "      <td>two-sided</td>\n",
              "      <td>0.152231</td>\n",
              "      <td>1.000000</td>\n",
              "      <td>holm</td>\n",
              "      <td>0.95</td>\n",
              "      <td>-0.134942</td>\n",
              "    </tr>\n",
              "    <tr>\n",
              "      <th>1</th>\n",
              "      <td>Time (Month)</td>\n",
              "      <td>0</td>\n",
              "      <td>4</td>\n",
              "      <td>True</td>\n",
              "      <td>True</td>\n",
              "      <td>4.136520</td>\n",
              "      <td>5.0</td>\n",
              "      <td>two-sided</td>\n",
              "      <td>0.009028</td>\n",
              "      <td>0.162496</td>\n",
              "      <td>holm</td>\n",
              "      <td>7.453</td>\n",
              "      <td>0.276544</td>\n",
              "    </tr>\n",
              "    <tr>\n",
              "      <th>2</th>\n",
              "      <td>Time (Month)</td>\n",
              "      <td>0</td>\n",
              "      <td>6</td>\n",
              "      <td>True</td>\n",
              "      <td>True</td>\n",
              "      <td>-0.688815</td>\n",
              "      <td>5.0</td>\n",
              "      <td>two-sided</td>\n",
              "      <td>0.521591</td>\n",
              "      <td>1.000000</td>\n",
              "      <td>holm</td>\n",
              "      <td>0.452</td>\n",
              "      <td>-0.035271</td>\n",
              "    </tr>\n",
              "    <tr>\n",
              "      <th>3</th>\n",
              "      <td>Time (Month)</td>\n",
              "      <td>0</td>\n",
              "      <td>8</td>\n",
              "      <td>True</td>\n",
              "      <td>True</td>\n",
              "      <td>0.284319</td>\n",
              "      <td>5.0</td>\n",
              "      <td>two-sided</td>\n",
              "      <td>0.787565</td>\n",
              "      <td>1.000000</td>\n",
              "      <td>holm</td>\n",
              "      <td>0.386</td>\n",
              "      <td>0.023931</td>\n",
              "    </tr>\n",
              "    <tr>\n",
              "      <th>4</th>\n",
              "      <td>Time (Month)</td>\n",
              "      <td>0</td>\n",
              "      <td>10</td>\n",
              "      <td>True</td>\n",
              "      <td>True</td>\n",
              "      <td>4.101364</td>\n",
              "      <td>5.0</td>\n",
              "      <td>two-sided</td>\n",
              "      <td>0.009342</td>\n",
              "      <td>0.162496</td>\n",
              "      <td>holm</td>\n",
              "      <td>7.263</td>\n",
              "      <td>0.410807</td>\n",
              "    </tr>\n",
              "    <tr>\n",
              "      <th>5</th>\n",
              "      <td>Time (Month)</td>\n",
              "      <td>0</td>\n",
              "      <td>12</td>\n",
              "      <td>True</td>\n",
              "      <td>True</td>\n",
              "      <td>2.865741</td>\n",
              "      <td>5.0</td>\n",
              "      <td>two-sided</td>\n",
              "      <td>0.035169</td>\n",
              "      <td>0.337414</td>\n",
              "      <td>holm</td>\n",
              "      <td>2.702</td>\n",
              "      <td>0.583792</td>\n",
              "    </tr>\n",
              "    <tr>\n",
              "      <th>6</th>\n",
              "      <td>Time (Month)</td>\n",
              "      <td>2</td>\n",
              "      <td>4</td>\n",
              "      <td>True</td>\n",
              "      <td>True</td>\n",
              "      <td>4.038463</td>\n",
              "      <td>5.0</td>\n",
              "      <td>two-sided</td>\n",
              "      <td>0.009938</td>\n",
              "      <td>0.162496</td>\n",
              "      <td>holm</td>\n",
              "      <td>6.932</td>\n",
              "      <td>0.404064</td>\n",
              "    </tr>\n",
              "    <tr>\n",
              "      <th>7</th>\n",
              "      <td>Time (Month)</td>\n",
              "      <td>2</td>\n",
              "      <td>6</td>\n",
              "      <td>True</td>\n",
              "      <td>True</td>\n",
              "      <td>0.919476</td>\n",
              "      <td>5.0</td>\n",
              "      <td>two-sided</td>\n",
              "      <td>0.400032</td>\n",
              "      <td>1.000000</td>\n",
              "      <td>holm</td>\n",
              "      <td>0.518</td>\n",
              "      <td>0.108275</td>\n",
              "    </tr>\n",
              "    <tr>\n",
              "      <th>8</th>\n",
              "      <td>Time (Month)</td>\n",
              "      <td>2</td>\n",
              "      <td>8</td>\n",
              "      <td>True</td>\n",
              "      <td>True</td>\n",
              "      <td>1.201076</td>\n",
              "      <td>5.0</td>\n",
              "      <td>two-sided</td>\n",
              "      <td>0.283509</td>\n",
              "      <td>1.000000</td>\n",
              "      <td>holm</td>\n",
              "      <td>0.633</td>\n",
              "      <td>0.166278</td>\n",
              "    </tr>\n",
              "    <tr>\n",
              "      <th>9</th>\n",
              "      <td>Time (Month)</td>\n",
              "      <td>2</td>\n",
              "      <td>10</td>\n",
              "      <td>True</td>\n",
              "      <td>True</td>\n",
              "      <td>3.769910</td>\n",
              "      <td>5.0</td>\n",
              "      <td>two-sided</td>\n",
              "      <td>0.013024</td>\n",
              "      <td>0.184641</td>\n",
              "      <td>holm</td>\n",
              "      <td>5.657</td>\n",
              "      <td>0.534357</td>\n",
              "    </tr>\n",
              "    <tr>\n",
              "      <th>10</th>\n",
              "      <td>Time (Month)</td>\n",
              "      <td>2</td>\n",
              "      <td>12</td>\n",
              "      <td>True</td>\n",
              "      <td>True</td>\n",
              "      <td>3.825068</td>\n",
              "      <td>5.0</td>\n",
              "      <td>two-sided</td>\n",
              "      <td>0.012309</td>\n",
              "      <td>0.184641</td>\n",
              "      <td>holm</td>\n",
              "      <td>5.902</td>\n",
              "      <td>0.696696</td>\n",
              "    </tr>\n",
              "    <tr>\n",
              "      <th>11</th>\n",
              "      <td>Time (Month)</td>\n",
              "      <td>4</td>\n",
              "      <td>6</td>\n",
              "      <td>True</td>\n",
              "      <td>True</td>\n",
              "      <td>-6.223685</td>\n",
              "      <td>5.0</td>\n",
              "      <td>two-sided</td>\n",
              "      <td>0.001566</td>\n",
              "      <td>0.031325</td>\n",
              "      <td>holm</td>\n",
              "      <td>28.311</td>\n",
              "      <td>-0.331692</td>\n",
              "    </tr>\n",
              "    <tr>\n",
              "      <th>12</th>\n",
              "      <td>Time (Month)</td>\n",
              "      <td>4</td>\n",
              "      <td>8</td>\n",
              "      <td>True</td>\n",
              "      <td>True</td>\n",
              "      <td>-3.049232</td>\n",
              "      <td>5.0</td>\n",
              "      <td>two-sided</td>\n",
              "      <td>0.028449</td>\n",
              "      <td>0.316491</td>\n",
              "      <td>holm</td>\n",
              "      <td>3.16</td>\n",
              "      <td>-0.273628</td>\n",
              "    </tr>\n",
              "    <tr>\n",
              "      <th>13</th>\n",
              "      <td>Time (Month)</td>\n",
              "      <td>4</td>\n",
              "      <td>10</td>\n",
              "      <td>True</td>\n",
              "      <td>True</td>\n",
              "      <td>2.901254</td>\n",
              "      <td>5.0</td>\n",
              "      <td>two-sided</td>\n",
              "      <td>0.033741</td>\n",
              "      <td>0.337414</td>\n",
              "      <td>holm</td>\n",
              "      <td>2.786</td>\n",
              "      <td>0.133205</td>\n",
              "    </tr>\n",
              "    <tr>\n",
              "      <th>14</th>\n",
              "      <td>Time (Month)</td>\n",
              "      <td>4</td>\n",
              "      <td>12</td>\n",
              "      <td>True</td>\n",
              "      <td>True</td>\n",
              "      <td>1.953791</td>\n",
              "      <td>5.0</td>\n",
              "      <td>two-sided</td>\n",
              "      <td>0.108144</td>\n",
              "      <td>0.865152</td>\n",
              "      <td>holm</td>\n",
              "      <td>1.203</td>\n",
              "      <td>0.321934</td>\n",
              "    </tr>\n",
              "    <tr>\n",
              "      <th>15</th>\n",
              "      <td>Time (Month)</td>\n",
              "      <td>6</td>\n",
              "      <td>8</td>\n",
              "      <td>True</td>\n",
              "      <td>True</td>\n",
              "      <td>1.187792</td>\n",
              "      <td>5.0</td>\n",
              "      <td>two-sided</td>\n",
              "      <td>0.288259</td>\n",
              "      <td>1.000000</td>\n",
              "      <td>holm</td>\n",
              "      <td>0.627</td>\n",
              "      <td>0.063612</td>\n",
              "    </tr>\n",
              "    <tr>\n",
              "      <th>16</th>\n",
              "      <td>Time (Month)</td>\n",
              "      <td>6</td>\n",
              "      <td>10</td>\n",
              "      <td>True</td>\n",
              "      <td>True</td>\n",
              "      <td>6.755302</td>\n",
              "      <td>5.0</td>\n",
              "      <td>two-sided</td>\n",
              "      <td>0.001079</td>\n",
              "      <td>0.022666</td>\n",
              "      <td>holm</td>\n",
              "      <td>37.715</td>\n",
              "      <td>0.478235</td>\n",
              "    </tr>\n",
              "    <tr>\n",
              "      <th>17</th>\n",
              "      <td>Time (Month)</td>\n",
              "      <td>6</td>\n",
              "      <td>12</td>\n",
              "      <td>True</td>\n",
              "      <td>True</td>\n",
              "      <td>3.484424</td>\n",
              "      <td>5.0</td>\n",
              "      <td>two-sided</td>\n",
              "      <td>0.017575</td>\n",
              "      <td>0.228477</td>\n",
              "      <td>holm</td>\n",
              "      <td>4.52</td>\n",
              "      <td>0.661669</td>\n",
              "    </tr>\n",
              "    <tr>\n",
              "      <th>18</th>\n",
              "      <td>Time (Month)</td>\n",
              "      <td>8</td>\n",
              "      <td>10</td>\n",
              "      <td>True</td>\n",
              "      <td>True</td>\n",
              "      <td>4.238172</td>\n",
              "      <td>5.0</td>\n",
              "      <td>two-sided</td>\n",
              "      <td>0.008184</td>\n",
              "      <td>0.155494</td>\n",
              "      <td>holm</td>\n",
              "      <td>8.026</td>\n",
              "      <td>0.420719</td>\n",
              "    </tr>\n",
              "    <tr>\n",
              "      <th>19</th>\n",
              "      <td>Time (Month)</td>\n",
              "      <td>8</td>\n",
              "      <td>12</td>\n",
              "      <td>True</td>\n",
              "      <td>True</td>\n",
              "      <td>3.115897</td>\n",
              "      <td>5.0</td>\n",
              "      <td>two-sided</td>\n",
              "      <td>0.026374</td>\n",
              "      <td>0.316491</td>\n",
              "      <td>holm</td>\n",
              "      <td>3.342</td>\n",
              "      <td>0.608244</td>\n",
              "    </tr>\n",
              "    <tr>\n",
              "      <th>20</th>\n",
              "      <td>Time (Month)</td>\n",
              "      <td>10</td>\n",
              "      <td>12</td>\n",
              "      <td>True</td>\n",
              "      <td>True</td>\n",
              "      <td>1.093769</td>\n",
              "      <td>5.0</td>\n",
              "      <td>two-sided</td>\n",
              "      <td>0.323928</td>\n",
              "      <td>1.000000</td>\n",
              "      <td>holm</td>\n",
              "      <td>0.584</td>\n",
              "      <td>0.199135</td>\n",
              "    </tr>\n",
              "  </tbody>\n",
              "</table>\n",
              "</div>\n",
              "    <div class=\"colab-df-buttons\">\n",
              "\n",
              "  <div class=\"colab-df-container\">\n",
              "    <button class=\"colab-df-convert\" onclick=\"convertToInteractive('df-51e70c56-21e2-45ba-90d3-d5d65b986eb5')\"\n",
              "            title=\"Convert this dataframe to an interactive table.\"\n",
              "            style=\"display:none;\">\n",
              "\n",
              "  <svg xmlns=\"http://www.w3.org/2000/svg\" height=\"24px\" viewBox=\"0 -960 960 960\">\n",
              "    <path d=\"M120-120v-720h720v720H120Zm60-500h600v-160H180v160Zm220 220h160v-160H400v160Zm0 220h160v-160H400v160ZM180-400h160v-160H180v160Zm440 0h160v-160H620v160ZM180-180h160v-160H180v160Zm440 0h160v-160H620v160Z\"/>\n",
              "  </svg>\n",
              "    </button>\n",
              "\n",
              "  <style>\n",
              "    .colab-df-container {\n",
              "      display:flex;\n",
              "      gap: 12px;\n",
              "    }\n",
              "\n",
              "    .colab-df-convert {\n",
              "      background-color: #E8F0FE;\n",
              "      border: none;\n",
              "      border-radius: 50%;\n",
              "      cursor: pointer;\n",
              "      display: none;\n",
              "      fill: #1967D2;\n",
              "      height: 32px;\n",
              "      padding: 0 0 0 0;\n",
              "      width: 32px;\n",
              "    }\n",
              "\n",
              "    .colab-df-convert:hover {\n",
              "      background-color: #E2EBFA;\n",
              "      box-shadow: 0px 1px 2px rgba(60, 64, 67, 0.3), 0px 1px 3px 1px rgba(60, 64, 67, 0.15);\n",
              "      fill: #174EA6;\n",
              "    }\n",
              "\n",
              "    .colab-df-buttons div {\n",
              "      margin-bottom: 4px;\n",
              "    }\n",
              "\n",
              "    [theme=dark] .colab-df-convert {\n",
              "      background-color: #3B4455;\n",
              "      fill: #D2E3FC;\n",
              "    }\n",
              "\n",
              "    [theme=dark] .colab-df-convert:hover {\n",
              "      background-color: #434B5C;\n",
              "      box-shadow: 0px 1px 3px 1px rgba(0, 0, 0, 0.15);\n",
              "      filter: drop-shadow(0px 1px 2px rgba(0, 0, 0, 0.3));\n",
              "      fill: #FFFFFF;\n",
              "    }\n",
              "  </style>\n",
              "\n",
              "    <script>\n",
              "      const buttonEl =\n",
              "        document.querySelector('#df-51e70c56-21e2-45ba-90d3-d5d65b986eb5 button.colab-df-convert');\n",
              "      buttonEl.style.display =\n",
              "        google.colab.kernel.accessAllowed ? 'block' : 'none';\n",
              "\n",
              "      async function convertToInteractive(key) {\n",
              "        const element = document.querySelector('#df-51e70c56-21e2-45ba-90d3-d5d65b986eb5');\n",
              "        const dataTable =\n",
              "          await google.colab.kernel.invokeFunction('convertToInteractive',\n",
              "                                                    [key], {});\n",
              "        if (!dataTable) return;\n",
              "\n",
              "        const docLinkHtml = 'Like what you see? Visit the ' +\n",
              "          '<a target=\"_blank\" href=https://colab.research.google.com/notebooks/data_table.ipynb>data table notebook</a>'\n",
              "          + ' to learn more about interactive tables.';\n",
              "        element.innerHTML = '';\n",
              "        dataTable['output_type'] = 'display_data';\n",
              "        await google.colab.output.renderOutput(dataTable, element);\n",
              "        const docLink = document.createElement('div');\n",
              "        docLink.innerHTML = docLinkHtml;\n",
              "        element.appendChild(docLink);\n",
              "      }\n",
              "    </script>\n",
              "  </div>\n",
              "\n",
              "\n",
              "<div id=\"df-35b92e81-fed8-4932-abd3-f67c4b9330d5\">\n",
              "  <button class=\"colab-df-quickchart\" onclick=\"quickchart('df-35b92e81-fed8-4932-abd3-f67c4b9330d5')\"\n",
              "            title=\"Suggest charts\"\n",
              "            style=\"display:none;\">\n",
              "\n",
              "<svg xmlns=\"http://www.w3.org/2000/svg\" height=\"24px\"viewBox=\"0 0 24 24\"\n",
              "     width=\"24px\">\n",
              "    <g>\n",
              "        <path d=\"M19 3H5c-1.1 0-2 .9-2 2v14c0 1.1.9 2 2 2h14c1.1 0 2-.9 2-2V5c0-1.1-.9-2-2-2zM9 17H7v-7h2v7zm4 0h-2V7h2v10zm4 0h-2v-4h2v4z\"/>\n",
              "    </g>\n",
              "</svg>\n",
              "  </button>\n",
              "\n",
              "<style>\n",
              "  .colab-df-quickchart {\n",
              "      --bg-color: #E8F0FE;\n",
              "      --fill-color: #1967D2;\n",
              "      --hover-bg-color: #E2EBFA;\n",
              "      --hover-fill-color: #174EA6;\n",
              "      --disabled-fill-color: #AAA;\n",
              "      --disabled-bg-color: #DDD;\n",
              "  }\n",
              "\n",
              "  [theme=dark] .colab-df-quickchart {\n",
              "      --bg-color: #3B4455;\n",
              "      --fill-color: #D2E3FC;\n",
              "      --hover-bg-color: #434B5C;\n",
              "      --hover-fill-color: #FFFFFF;\n",
              "      --disabled-bg-color: #3B4455;\n",
              "      --disabled-fill-color: #666;\n",
              "  }\n",
              "\n",
              "  .colab-df-quickchart {\n",
              "    background-color: var(--bg-color);\n",
              "    border: none;\n",
              "    border-radius: 50%;\n",
              "    cursor: pointer;\n",
              "    display: none;\n",
              "    fill: var(--fill-color);\n",
              "    height: 32px;\n",
              "    padding: 0;\n",
              "    width: 32px;\n",
              "  }\n",
              "\n",
              "  .colab-df-quickchart:hover {\n",
              "    background-color: var(--hover-bg-color);\n",
              "    box-shadow: 0 1px 2px rgba(60, 64, 67, 0.3), 0 1px 3px 1px rgba(60, 64, 67, 0.15);\n",
              "    fill: var(--button-hover-fill-color);\n",
              "  }\n",
              "\n",
              "  .colab-df-quickchart-complete:disabled,\n",
              "  .colab-df-quickchart-complete:disabled:hover {\n",
              "    background-color: var(--disabled-bg-color);\n",
              "    fill: var(--disabled-fill-color);\n",
              "    box-shadow: none;\n",
              "  }\n",
              "\n",
              "  .colab-df-spinner {\n",
              "    border: 2px solid var(--fill-color);\n",
              "    border-color: transparent;\n",
              "    border-bottom-color: var(--fill-color);\n",
              "    animation:\n",
              "      spin 1s steps(1) infinite;\n",
              "  }\n",
              "\n",
              "  @keyframes spin {\n",
              "    0% {\n",
              "      border-color: transparent;\n",
              "      border-bottom-color: var(--fill-color);\n",
              "      border-left-color: var(--fill-color);\n",
              "    }\n",
              "    20% {\n",
              "      border-color: transparent;\n",
              "      border-left-color: var(--fill-color);\n",
              "      border-top-color: var(--fill-color);\n",
              "    }\n",
              "    30% {\n",
              "      border-color: transparent;\n",
              "      border-left-color: var(--fill-color);\n",
              "      border-top-color: var(--fill-color);\n",
              "      border-right-color: var(--fill-color);\n",
              "    }\n",
              "    40% {\n",
              "      border-color: transparent;\n",
              "      border-right-color: var(--fill-color);\n",
              "      border-top-color: var(--fill-color);\n",
              "    }\n",
              "    60% {\n",
              "      border-color: transparent;\n",
              "      border-right-color: var(--fill-color);\n",
              "    }\n",
              "    80% {\n",
              "      border-color: transparent;\n",
              "      border-right-color: var(--fill-color);\n",
              "      border-bottom-color: var(--fill-color);\n",
              "    }\n",
              "    90% {\n",
              "      border-color: transparent;\n",
              "      border-bottom-color: var(--fill-color);\n",
              "    }\n",
              "  }\n",
              "</style>\n",
              "\n",
              "  <script>\n",
              "    async function quickchart(key) {\n",
              "      const quickchartButtonEl =\n",
              "        document.querySelector('#' + key + ' button');\n",
              "      quickchartButtonEl.disabled = true;  // To prevent multiple clicks.\n",
              "      quickchartButtonEl.classList.add('colab-df-spinner');\n",
              "      try {\n",
              "        const charts = await google.colab.kernel.invokeFunction(\n",
              "            'suggestCharts', [key], {});\n",
              "      } catch (error) {\n",
              "        console.error('Error during call to suggestCharts:', error);\n",
              "      }\n",
              "      quickchartButtonEl.classList.remove('colab-df-spinner');\n",
              "      quickchartButtonEl.classList.add('colab-df-quickchart-complete');\n",
              "    }\n",
              "    (() => {\n",
              "      let quickchartButtonEl =\n",
              "        document.querySelector('#df-35b92e81-fed8-4932-abd3-f67c4b9330d5 button');\n",
              "      quickchartButtonEl.style.display =\n",
              "        google.colab.kernel.accessAllowed ? 'block' : 'none';\n",
              "    })();\n",
              "  </script>\n",
              "</div>\n",
              "    </div>\n",
              "  </div>\n"
            ],
            "application/vnd.google.colaboratory.intrinsic+json": {
              "type": "dataframe",
              "variable_name": "posthoc_time",
              "summary": "{\n  \"name\": \"posthoc_time\",\n  \"rows\": 21,\n  \"fields\": [\n    {\n      \"column\": \"Contrast\",\n      \"properties\": {\n        \"dtype\": \"category\",\n        \"num_unique_values\": 1,\n        \"samples\": [\n          \"Time (Month)\"\n        ],\n        \"semantic_type\": \"\",\n        \"description\": \"\"\n      }\n    },\n    {\n      \"column\": \"A\",\n      \"properties\": {\n        \"dtype\": \"number\",\n        \"std\": 3,\n        \"min\": 0,\n        \"max\": 10,\n        \"num_unique_values\": 6,\n        \"samples\": [\n          0\n        ],\n        \"semantic_type\": \"\",\n        \"description\": \"\"\n      }\n    },\n    {\n      \"column\": \"B\",\n      \"properties\": {\n        \"dtype\": \"number\",\n        \"std\": 3,\n        \"min\": 2,\n        \"max\": 12,\n        \"num_unique_values\": 6,\n        \"samples\": [\n          2\n        ],\n        \"semantic_type\": \"\",\n        \"description\": \"\"\n      }\n    },\n    {\n      \"column\": \"Paired\",\n      \"properties\": {\n        \"dtype\": \"boolean\",\n        \"num_unique_values\": 1,\n        \"samples\": [\n          true\n        ],\n        \"semantic_type\": \"\",\n        \"description\": \"\"\n      }\n    },\n    {\n      \"column\": \"Parametric\",\n      \"properties\": {\n        \"dtype\": \"boolean\",\n        \"num_unique_values\": 1,\n        \"samples\": [\n          true\n        ],\n        \"semantic_type\": \"\",\n        \"description\": \"\"\n      }\n    },\n    {\n      \"column\": \"T\",\n      \"properties\": {\n        \"dtype\": \"number\",\n        \"std\": 2.9303516158017864,\n        \"min\": -6.223685436939983,\n        \"max\": 6.755301839754457,\n        \"num_unique_values\": 21,\n        \"samples\": [\n          -1.6879088812905874\n        ],\n        \"semantic_type\": \"\",\n        \"description\": \"\"\n      }\n    },\n    {\n      \"column\": \"dof\",\n      \"properties\": {\n        \"dtype\": \"number\",\n        \"std\": 0.0,\n        \"min\": 5.0,\n        \"max\": 5.0,\n        \"num_unique_values\": 1,\n        \"samples\": [\n          5.0\n        ],\n        \"semantic_type\": \"\",\n        \"description\": \"\"\n      }\n    },\n    {\n      \"column\": \"alternative\",\n      \"properties\": {\n        \"dtype\": \"category\",\n        \"num_unique_values\": 1,\n        \"samples\": [\n          \"two-sided\"\n        ],\n        \"semantic_type\": \"\",\n        \"description\": \"\"\n      }\n    },\n    {\n      \"column\": \"p-unc\",\n      \"properties\": {\n        \"dtype\": \"number\",\n        \"std\": 0.21346553031716212,\n        \"min\": 0.001079348299724538,\n        \"max\": 0.7875646735557569,\n        \"num_unique_values\": 21,\n        \"samples\": [\n          0.15223132557139102\n        ],\n        \"semantic_type\": \"\",\n        \"description\": \"\"\n      }\n    },\n    {\n      \"column\": \"p-corr\",\n      \"properties\": {\n        \"dtype\": \"number\",\n        \"std\": 0.3990018269120666,\n        \"min\": 0.0226663142942153,\n        \"max\": 1.0,\n        \"num_unique_values\": 10,\n        \"samples\": [\n          0.22847701244580204\n        ],\n        \"semantic_type\": \"\",\n        \"description\": \"\"\n      }\n    },\n    {\n      \"column\": \"p-adjust\",\n      \"properties\": {\n        \"dtype\": \"category\",\n        \"num_unique_values\": 1,\n        \"samples\": [\n          \"holm\"\n        ],\n        \"semantic_type\": \"\",\n        \"description\": \"\"\n      }\n    },\n    {\n      \"column\": \"BF10\",\n      \"properties\": {\n        \"dtype\": \"string\",\n        \"num_unique_values\": 21,\n        \"samples\": [\n          \"0.95\"\n        ],\n        \"semantic_type\": \"\",\n        \"description\": \"\"\n      }\n    },\n    {\n      \"column\": \"hedges\",\n      \"properties\": {\n        \"dtype\": \"number\",\n        \"std\": 0.2997838976510871,\n        \"min\": -0.3316915634384227,\n        \"max\": 0.6966956579040393,\n        \"num_unique_values\": 21,\n        \"samples\": [\n          -0.13494173479038418\n        ],\n        \"semantic_type\": \"\",\n        \"description\": \"\"\n      }\n    }\n  ]\n}"
            }
          },
          "metadata": {},
          "execution_count": 84
        }
      ]
    },
    {
      "cell_type": "code",
      "source": [
        "# Export the post-hoc pairwise comparisons to Excel\n",
        "posthoc_time.to_excel('posthoc_time_results.xlsx', index=False)"
      ],
      "metadata": {
        "id": "ni3-9g6xnoEN"
      },
      "execution_count": null,
      "outputs": []
    },
    {
      "cell_type": "markdown",
      "source": [
        "#### Parametric tests"
      ],
      "metadata": {
        "id": "DXVQtb2reNfp"
      }
    },
    {
      "cell_type": "code",
      "source": [
        "resp.rename(columns={'Free_Acidity (% oleic acid)': 'Free_acidity', 'Time (Month)': 'Time'}, inplace=True)"
      ],
      "metadata": {
        "colab": {
          "base_uri": "https://localhost:8080/"
        },
        "id": "gtFsMbYme0-t",
        "outputId": "cfdb63eb-f570-4d07-88e3-5ecb787390c1"
      },
      "execution_count": null,
      "outputs": [
        {
          "output_type": "stream",
          "name": "stderr",
          "text": [
            "<ipython-input-5-667d9edcca70>:1: SettingWithCopyWarning: \n",
            "A value is trying to be set on a copy of a slice from a DataFrame\n",
            "\n",
            "See the caveats in the documentation: https://pandas.pydata.org/pandas-docs/stable/user_guide/indexing.html#returning-a-view-versus-a-copy\n",
            "  dpph.rename(columns={'DPPH (%inhibition)': 'DPPH_inhibition', 'Time (Month)': 'Time'}, inplace=True)\n"
          ]
        }
      ]
    },
    {
      "cell_type": "code",
      "source": [
        "modelo = ols('Free_acidity ~ C(Time) + C(Code) + C(Time):C(Code)', data=resp).fit()\n",
        "result = sm.stats.anova_lm(modelo, type=2)\n",
        "print(result)"
      ],
      "metadata": {
        "colab": {
          "base_uri": "https://localhost:8080/"
        },
        "id": "8JGF-bunffHU",
        "outputId": "8fd47309-0738-4562-a03a-ece36effcc33"
      },
      "execution_count": null,
      "outputs": [
        {
          "output_type": "stream",
          "name": "stdout",
          "text": [
            "                    df        sum_sq      mean_sq            F         PR(>F)\n",
            "C(Time)            6.0   1845.633310   307.605552   113.792692   3.383156e-63\n",
            "C(Code)            5.0  19848.144264  3969.628853  1468.486997  3.400565e-161\n",
            "C(Time):C(Code)   30.0    979.425267    32.647509    12.077311   2.030049e-31\n",
            "Residual         210.0    567.674117     2.703210          NaN            NaN\n"
          ]
        }
      ]
    },
    {
      "cell_type": "markdown",
      "source": [
        "##### Data type re-structure"
      ],
      "metadata": {
        "id": "dvDbkb6vzvyW"
      }
    },
    {
      "cell_type": "code",
      "source": [
        "resp.dtypes"
      ],
      "metadata": {
        "colab": {
          "base_uri": "https://localhost:8080/"
        },
        "id": "dKUu-Oyghd5Y",
        "outputId": "3a519d18-8488-4340-f5f4-4054211672d8"
      },
      "execution_count": null,
      "outputs": [
        {
          "output_type": "execute_result",
          "data": {
            "text/plain": [
              "Code                object\n",
              "Time                 int64\n",
              "DPPH_inhibition    float64\n",
              "dtype: object"
            ]
          },
          "metadata": {},
          "execution_count": 7
        }
      ]
    },
    {
      "cell_type": "code",
      "source": [
        "resp[\"Code\"] = resp[\"Code\"].astype(\"category\")\n",
        "resp[\"Time\"] = resp[\"Time\"].astype(\"category\")"
      ],
      "metadata": {
        "colab": {
          "base_uri": "https://localhost:8080/"
        },
        "id": "nsl1xV2zlK3R",
        "outputId": "40f05b42-fab2-42eb-e890-34a3a5b4c81a"
      },
      "execution_count": null,
      "outputs": [
        {
          "output_type": "stream",
          "name": "stderr",
          "text": [
            "<ipython-input-10-f2b8afa12ba0>:1: SettingWithCopyWarning: \n",
            "A value is trying to be set on a copy of a slice from a DataFrame.\n",
            "Try using .loc[row_indexer,col_indexer] = value instead\n",
            "\n",
            "See the caveats in the documentation: https://pandas.pydata.org/pandas-docs/stable/user_guide/indexing.html#returning-a-view-versus-a-copy\n",
            "  dpph[\"Code\"] = dpph[\"Code\"].astype(\"category\")\n",
            "<ipython-input-10-f2b8afa12ba0>:2: SettingWithCopyWarning: \n",
            "A value is trying to be set on a copy of a slice from a DataFrame.\n",
            "Try using .loc[row_indexer,col_indexer] = value instead\n",
            "\n",
            "See the caveats in the documentation: https://pandas.pydata.org/pandas-docs/stable/user_guide/indexing.html#returning-a-view-versus-a-copy\n",
            "  dpph[\"Time\"] = dpph[\"Time\"].astype(\"category\")\n"
          ]
        }
      ]
    },
    {
      "cell_type": "markdown",
      "source": [
        "#### Pos-Hoc Test"
      ],
      "metadata": {
        "id": "ahcM3vOCz4K0"
      }
    },
    {
      "cell_type": "code",
      "source": [
        "tukey_code = pairwise_tukeyhsd(endog=resp['Free_acidity'],\n",
        "                                  groups=resp['Code'],\n",
        "                                  alpha=0.05)\n",
        "\n",
        "print(tukey_code.summary())"
      ],
      "metadata": {
        "colab": {
          "base_uri": "https://localhost:8080/"
        },
        "id": "GDjVwceQ1SjX",
        "outputId": "120064cd-a6df-4163-f8c8-ba286c705d64"
      },
      "execution_count": null,
      "outputs": [
        {
          "output_type": "stream",
          "name": "stdout",
          "text": [
            " Multiple Comparison of Means - Tukey HSD, FWER=0.05  \n",
            "======================================================\n",
            "group1 group2 meandiff p-adj   lower    upper   reject\n",
            "------------------------------------------------------\n",
            "     A      C  26.0998    0.0   23.772  28.4275   True\n",
            "     A    C.2   7.1769    0.0   4.8492   9.5046   True\n",
            "     A    C.4    11.29    0.0   8.9623  13.6177   True\n",
            "     A    C.6  15.1876    0.0  12.8599  17.5153   True\n",
            "     A    C.8   22.676    0.0  20.3482  25.0037   True\n",
            "     C    C.2 -18.9229    0.0 -21.2506 -16.5951   True\n",
            "     C    C.4 -14.8098    0.0 -17.1375  -12.482   True\n",
            "     C    C.6 -10.9121    0.0 -13.2399  -8.5844   True\n",
            "     C    C.8  -3.4238 0.0005  -5.7515  -1.0961   True\n",
            "   C.2    C.4   4.1131    0.0   1.7854   6.4408   True\n",
            "   C.2    C.6   8.0107    0.0    5.683  10.3384   True\n",
            "   C.2    C.8   15.499    0.0  13.1713  17.8268   True\n",
            "   C.4    C.6   3.8976    0.0   1.5699   6.2253   True\n",
            "   C.4    C.8   11.386    0.0   9.0582  13.7137   True\n",
            "   C.6    C.8   7.4883    0.0   5.1606   9.8161   True\n",
            "------------------------------------------------------\n"
          ]
        }
      ]
    },
    {
      "cell_type": "code",
      "source": [
        "# Convert the summary of \"Code\" to a DataFrame\n",
        "tukey_code_df = pd.DataFrame(data=tukey_code._results_table.data[1:], columns=tukey_code._results_table.data[0])\n",
        "\n",
        "# Export to Excel\n",
        "tukey_code_df.to_excel('tukey_code_results.xlsx', index=False)"
      ],
      "metadata": {
        "id": "HXUUAZO_r0_N"
      },
      "execution_count": null,
      "outputs": []
    }
  ]
}